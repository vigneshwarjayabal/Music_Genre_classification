{
  "nbformat": 4,
  "nbformat_minor": 0,
  "metadata": {
    "colab": {
      "provenance": []
    },
    "kernelspec": {
      "name": "python3",
      "display_name": "Python 3"
    },
    "language_info": {
      "name": "python"
    }
  },
  "cells": [
    {
      "cell_type": "code",
      "execution_count": null,
      "metadata": {
        "colab": {
          "base_uri": "https://localhost:8080/"
        },
        "id": "lDfYMEBaoFmT",
        "outputId": "ad58f47b-2ca2-4d5e-d3ae-92550b33faf3"
      },
      "outputs": [
        {
          "output_type": "stream",
          "name": "stdout",
          "text": [
            "Mounted at /content/drive\n"
          ]
        }
      ],
      "source": [
        "from google.colab import drive\n",
        "drive.mount('/content/drive')"
      ]
    },
    {
      "cell_type": "code",
      "source": [
        "import pandas as pd\n",
        "from sklearn.model_selection import train_test_split\n",
        "from sklearn.svm import SVC\n",
        "from sklearn.metrics import confusion_matrix, classification_report\n",
        "import seaborn as sns"
      ],
      "metadata": {
        "id": "xVR6AEOPfSgI"
      },
      "execution_count": null,
      "outputs": []
    },
    {
      "cell_type": "code",
      "source": [
        "dataset_path = '/content/drive/MyDrive/gtzan/features_3_sec.csv'\n",
        "data = pd.read_csv(dataset_path)"
      ],
      "metadata": {
        "id": "xSFWd59Nffcq"
      },
      "execution_count": null,
      "outputs": []
    },
    {
      "cell_type": "code",
      "source": [
        "data.head()"
      ],
      "metadata": {
        "colab": {
          "base_uri": "https://localhost:8080/",
          "height": 255
        },
        "id": "SD3rZ2LXfqgA",
        "outputId": "d99a2c5d-9947-4dd2-e623-8d4471f422b8"
      },
      "execution_count": null,
      "outputs": [
        {
          "output_type": "execute_result",
          "data": {
            "text/plain": [
              "            filename  length  chroma_stft_mean  chroma_stft_var  rms_mean  \\\n",
              "0  blues.00000.0.wav   66149          0.335406         0.091048  0.130405   \n",
              "1  blues.00000.1.wav   66149          0.343065         0.086147  0.112699   \n",
              "2  blues.00000.2.wav   66149          0.346815         0.092243  0.132003   \n",
              "3  blues.00000.3.wav   66149          0.363639         0.086856  0.132565   \n",
              "4  blues.00000.4.wav   66149          0.335579         0.088129  0.143289   \n",
              "\n",
              "    rms_var  spectral_centroid_mean  spectral_centroid_var  \\\n",
              "0  0.003521             1773.065032           167541.63090   \n",
              "1  0.001450             1816.693777            90525.69087   \n",
              "2  0.004620             1788.539719           111407.43760   \n",
              "3  0.002448             1655.289045           111952.28450   \n",
              "4  0.001701             1630.656199            79667.26765   \n",
              "\n",
              "   spectral_bandwidth_mean  spectral_bandwidth_var  ...  mfcc16_var  \\\n",
              "0              1972.744388            117335.77160  ...   39.687145   \n",
              "1              2010.051501             65671.87567  ...   64.748276   \n",
              "2              2084.565132             75124.92172  ...   67.336563   \n",
              "3              1960.039988             82913.63927  ...   47.739452   \n",
              "4              1948.503884             60204.02027  ...   30.336359   \n",
              "\n",
              "   mfcc17_mean  mfcc17_var  mfcc18_mean  mfcc18_var  mfcc19_mean  mfcc19_var  \\\n",
              "0    -3.241280   36.488243     0.722209   38.099152    -5.050335   33.618073   \n",
              "1    -6.055294   40.677654     0.159015   51.264091    -2.837699   97.030830   \n",
              "2    -1.768610   28.348579     2.378768   45.717648    -1.938424   53.050835   \n",
              "3    -3.841155   28.337118     1.218588   34.770935    -3.580352   50.836224   \n",
              "4     0.664582   45.880913     1.689446   51.363583    -3.392489   26.738789   \n",
              "\n",
              "   mfcc20_mean  mfcc20_var  label  \n",
              "0    -0.243027   43.771767  blues  \n",
              "1     5.784063   59.943081  blues  \n",
              "2     2.517375   33.105122  blues  \n",
              "3     3.630866   32.023678  blues  \n",
              "4     0.536961   29.146694  blues  \n",
              "\n",
              "[5 rows x 60 columns]"
            ],
            "text/html": [
              "\n",
              "  <div id=\"df-2c896424-da74-4469-904d-c399abebbfe7\" class=\"colab-df-container\">\n",
              "    <div>\n",
              "<style scoped>\n",
              "    .dataframe tbody tr th:only-of-type {\n",
              "        vertical-align: middle;\n",
              "    }\n",
              "\n",
              "    .dataframe tbody tr th {\n",
              "        vertical-align: top;\n",
              "    }\n",
              "\n",
              "    .dataframe thead th {\n",
              "        text-align: right;\n",
              "    }\n",
              "</style>\n",
              "<table border=\"1\" class=\"dataframe\">\n",
              "  <thead>\n",
              "    <tr style=\"text-align: right;\">\n",
              "      <th></th>\n",
              "      <th>filename</th>\n",
              "      <th>length</th>\n",
              "      <th>chroma_stft_mean</th>\n",
              "      <th>chroma_stft_var</th>\n",
              "      <th>rms_mean</th>\n",
              "      <th>rms_var</th>\n",
              "      <th>spectral_centroid_mean</th>\n",
              "      <th>spectral_centroid_var</th>\n",
              "      <th>spectral_bandwidth_mean</th>\n",
              "      <th>spectral_bandwidth_var</th>\n",
              "      <th>...</th>\n",
              "      <th>mfcc16_var</th>\n",
              "      <th>mfcc17_mean</th>\n",
              "      <th>mfcc17_var</th>\n",
              "      <th>mfcc18_mean</th>\n",
              "      <th>mfcc18_var</th>\n",
              "      <th>mfcc19_mean</th>\n",
              "      <th>mfcc19_var</th>\n",
              "      <th>mfcc20_mean</th>\n",
              "      <th>mfcc20_var</th>\n",
              "      <th>label</th>\n",
              "    </tr>\n",
              "  </thead>\n",
              "  <tbody>\n",
              "    <tr>\n",
              "      <th>0</th>\n",
              "      <td>blues.00000.0.wav</td>\n",
              "      <td>66149</td>\n",
              "      <td>0.335406</td>\n",
              "      <td>0.091048</td>\n",
              "      <td>0.130405</td>\n",
              "      <td>0.003521</td>\n",
              "      <td>1773.065032</td>\n",
              "      <td>167541.63090</td>\n",
              "      <td>1972.744388</td>\n",
              "      <td>117335.77160</td>\n",
              "      <td>...</td>\n",
              "      <td>39.687145</td>\n",
              "      <td>-3.241280</td>\n",
              "      <td>36.488243</td>\n",
              "      <td>0.722209</td>\n",
              "      <td>38.099152</td>\n",
              "      <td>-5.050335</td>\n",
              "      <td>33.618073</td>\n",
              "      <td>-0.243027</td>\n",
              "      <td>43.771767</td>\n",
              "      <td>blues</td>\n",
              "    </tr>\n",
              "    <tr>\n",
              "      <th>1</th>\n",
              "      <td>blues.00000.1.wav</td>\n",
              "      <td>66149</td>\n",
              "      <td>0.343065</td>\n",
              "      <td>0.086147</td>\n",
              "      <td>0.112699</td>\n",
              "      <td>0.001450</td>\n",
              "      <td>1816.693777</td>\n",
              "      <td>90525.69087</td>\n",
              "      <td>2010.051501</td>\n",
              "      <td>65671.87567</td>\n",
              "      <td>...</td>\n",
              "      <td>64.748276</td>\n",
              "      <td>-6.055294</td>\n",
              "      <td>40.677654</td>\n",
              "      <td>0.159015</td>\n",
              "      <td>51.264091</td>\n",
              "      <td>-2.837699</td>\n",
              "      <td>97.030830</td>\n",
              "      <td>5.784063</td>\n",
              "      <td>59.943081</td>\n",
              "      <td>blues</td>\n",
              "    </tr>\n",
              "    <tr>\n",
              "      <th>2</th>\n",
              "      <td>blues.00000.2.wav</td>\n",
              "      <td>66149</td>\n",
              "      <td>0.346815</td>\n",
              "      <td>0.092243</td>\n",
              "      <td>0.132003</td>\n",
              "      <td>0.004620</td>\n",
              "      <td>1788.539719</td>\n",
              "      <td>111407.43760</td>\n",
              "      <td>2084.565132</td>\n",
              "      <td>75124.92172</td>\n",
              "      <td>...</td>\n",
              "      <td>67.336563</td>\n",
              "      <td>-1.768610</td>\n",
              "      <td>28.348579</td>\n",
              "      <td>2.378768</td>\n",
              "      <td>45.717648</td>\n",
              "      <td>-1.938424</td>\n",
              "      <td>53.050835</td>\n",
              "      <td>2.517375</td>\n",
              "      <td>33.105122</td>\n",
              "      <td>blues</td>\n",
              "    </tr>\n",
              "    <tr>\n",
              "      <th>3</th>\n",
              "      <td>blues.00000.3.wav</td>\n",
              "      <td>66149</td>\n",
              "      <td>0.363639</td>\n",
              "      <td>0.086856</td>\n",
              "      <td>0.132565</td>\n",
              "      <td>0.002448</td>\n",
              "      <td>1655.289045</td>\n",
              "      <td>111952.28450</td>\n",
              "      <td>1960.039988</td>\n",
              "      <td>82913.63927</td>\n",
              "      <td>...</td>\n",
              "      <td>47.739452</td>\n",
              "      <td>-3.841155</td>\n",
              "      <td>28.337118</td>\n",
              "      <td>1.218588</td>\n",
              "      <td>34.770935</td>\n",
              "      <td>-3.580352</td>\n",
              "      <td>50.836224</td>\n",
              "      <td>3.630866</td>\n",
              "      <td>32.023678</td>\n",
              "      <td>blues</td>\n",
              "    </tr>\n",
              "    <tr>\n",
              "      <th>4</th>\n",
              "      <td>blues.00000.4.wav</td>\n",
              "      <td>66149</td>\n",
              "      <td>0.335579</td>\n",
              "      <td>0.088129</td>\n",
              "      <td>0.143289</td>\n",
              "      <td>0.001701</td>\n",
              "      <td>1630.656199</td>\n",
              "      <td>79667.26765</td>\n",
              "      <td>1948.503884</td>\n",
              "      <td>60204.02027</td>\n",
              "      <td>...</td>\n",
              "      <td>30.336359</td>\n",
              "      <td>0.664582</td>\n",
              "      <td>45.880913</td>\n",
              "      <td>1.689446</td>\n",
              "      <td>51.363583</td>\n",
              "      <td>-3.392489</td>\n",
              "      <td>26.738789</td>\n",
              "      <td>0.536961</td>\n",
              "      <td>29.146694</td>\n",
              "      <td>blues</td>\n",
              "    </tr>\n",
              "  </tbody>\n",
              "</table>\n",
              "<p>5 rows × 60 columns</p>\n",
              "</div>\n",
              "    <div class=\"colab-df-buttons\">\n",
              "\n",
              "  <div class=\"colab-df-container\">\n",
              "    <button class=\"colab-df-convert\" onclick=\"convertToInteractive('df-2c896424-da74-4469-904d-c399abebbfe7')\"\n",
              "            title=\"Convert this dataframe to an interactive table.\"\n",
              "            style=\"display:none;\">\n",
              "\n",
              "  <svg xmlns=\"http://www.w3.org/2000/svg\" height=\"24px\" viewBox=\"0 -960 960 960\">\n",
              "    <path d=\"M120-120v-720h720v720H120Zm60-500h600v-160H180v160Zm220 220h160v-160H400v160Zm0 220h160v-160H400v160ZM180-400h160v-160H180v160Zm440 0h160v-160H620v160ZM180-180h160v-160H180v160Zm440 0h160v-160H620v160Z\"/>\n",
              "  </svg>\n",
              "    </button>\n",
              "\n",
              "  <style>\n",
              "    .colab-df-container {\n",
              "      display:flex;\n",
              "      gap: 12px;\n",
              "    }\n",
              "\n",
              "    .colab-df-convert {\n",
              "      background-color: #E8F0FE;\n",
              "      border: none;\n",
              "      border-radius: 50%;\n",
              "      cursor: pointer;\n",
              "      display: none;\n",
              "      fill: #1967D2;\n",
              "      height: 32px;\n",
              "      padding: 0 0 0 0;\n",
              "      width: 32px;\n",
              "    }\n",
              "\n",
              "    .colab-df-convert:hover {\n",
              "      background-color: #E2EBFA;\n",
              "      box-shadow: 0px 1px 2px rgba(60, 64, 67, 0.3), 0px 1px 3px 1px rgba(60, 64, 67, 0.15);\n",
              "      fill: #174EA6;\n",
              "    }\n",
              "\n",
              "    .colab-df-buttons div {\n",
              "      margin-bottom: 4px;\n",
              "    }\n",
              "\n",
              "    [theme=dark] .colab-df-convert {\n",
              "      background-color: #3B4455;\n",
              "      fill: #D2E3FC;\n",
              "    }\n",
              "\n",
              "    [theme=dark] .colab-df-convert:hover {\n",
              "      background-color: #434B5C;\n",
              "      box-shadow: 0px 1px 3px 1px rgba(0, 0, 0, 0.15);\n",
              "      filter: drop-shadow(0px 1px 2px rgba(0, 0, 0, 0.3));\n",
              "      fill: #FFFFFF;\n",
              "    }\n",
              "  </style>\n",
              "\n",
              "    <script>\n",
              "      const buttonEl =\n",
              "        document.querySelector('#df-2c896424-da74-4469-904d-c399abebbfe7 button.colab-df-convert');\n",
              "      buttonEl.style.display =\n",
              "        google.colab.kernel.accessAllowed ? 'block' : 'none';\n",
              "\n",
              "      async function convertToInteractive(key) {\n",
              "        const element = document.querySelector('#df-2c896424-da74-4469-904d-c399abebbfe7');\n",
              "        const dataTable =\n",
              "          await google.colab.kernel.invokeFunction('convertToInteractive',\n",
              "                                                    [key], {});\n",
              "        if (!dataTable) return;\n",
              "\n",
              "        const docLinkHtml = 'Like what you see? Visit the ' +\n",
              "          '<a target=\"_blank\" href=https://colab.research.google.com/notebooks/data_table.ipynb>data table notebook</a>'\n",
              "          + ' to learn more about interactive tables.';\n",
              "        element.innerHTML = '';\n",
              "        dataTable['output_type'] = 'display_data';\n",
              "        await google.colab.output.renderOutput(dataTable, element);\n",
              "        const docLink = document.createElement('div');\n",
              "        docLink.innerHTML = docLinkHtml;\n",
              "        element.appendChild(docLink);\n",
              "      }\n",
              "    </script>\n",
              "  </div>\n",
              "\n",
              "\n",
              "<div id=\"df-51ce2875-8115-465b-ba7e-efa341c5af0c\">\n",
              "  <button class=\"colab-df-quickchart\" onclick=\"quickchart('df-51ce2875-8115-465b-ba7e-efa341c5af0c')\"\n",
              "            title=\"Suggest charts\"\n",
              "            style=\"display:none;\">\n",
              "\n",
              "<svg xmlns=\"http://www.w3.org/2000/svg\" height=\"24px\"viewBox=\"0 0 24 24\"\n",
              "     width=\"24px\">\n",
              "    <g>\n",
              "        <path d=\"M19 3H5c-1.1 0-2 .9-2 2v14c0 1.1.9 2 2 2h14c1.1 0 2-.9 2-2V5c0-1.1-.9-2-2-2zM9 17H7v-7h2v7zm4 0h-2V7h2v10zm4 0h-2v-4h2v4z\"/>\n",
              "    </g>\n",
              "</svg>\n",
              "  </button>\n",
              "\n",
              "<style>\n",
              "  .colab-df-quickchart {\n",
              "      --bg-color: #E8F0FE;\n",
              "      --fill-color: #1967D2;\n",
              "      --hover-bg-color: #E2EBFA;\n",
              "      --hover-fill-color: #174EA6;\n",
              "      --disabled-fill-color: #AAA;\n",
              "      --disabled-bg-color: #DDD;\n",
              "  }\n",
              "\n",
              "  [theme=dark] .colab-df-quickchart {\n",
              "      --bg-color: #3B4455;\n",
              "      --fill-color: #D2E3FC;\n",
              "      --hover-bg-color: #434B5C;\n",
              "      --hover-fill-color: #FFFFFF;\n",
              "      --disabled-bg-color: #3B4455;\n",
              "      --disabled-fill-color: #666;\n",
              "  }\n",
              "\n",
              "  .colab-df-quickchart {\n",
              "    background-color: var(--bg-color);\n",
              "    border: none;\n",
              "    border-radius: 50%;\n",
              "    cursor: pointer;\n",
              "    display: none;\n",
              "    fill: var(--fill-color);\n",
              "    height: 32px;\n",
              "    padding: 0;\n",
              "    width: 32px;\n",
              "  }\n",
              "\n",
              "  .colab-df-quickchart:hover {\n",
              "    background-color: var(--hover-bg-color);\n",
              "    box-shadow: 0 1px 2px rgba(60, 64, 67, 0.3), 0 1px 3px 1px rgba(60, 64, 67, 0.15);\n",
              "    fill: var(--button-hover-fill-color);\n",
              "  }\n",
              "\n",
              "  .colab-df-quickchart-complete:disabled,\n",
              "  .colab-df-quickchart-complete:disabled:hover {\n",
              "    background-color: var(--disabled-bg-color);\n",
              "    fill: var(--disabled-fill-color);\n",
              "    box-shadow: none;\n",
              "  }\n",
              "\n",
              "  .colab-df-spinner {\n",
              "    border: 2px solid var(--fill-color);\n",
              "    border-color: transparent;\n",
              "    border-bottom-color: var(--fill-color);\n",
              "    animation:\n",
              "      spin 1s steps(1) infinite;\n",
              "  }\n",
              "\n",
              "  @keyframes spin {\n",
              "    0% {\n",
              "      border-color: transparent;\n",
              "      border-bottom-color: var(--fill-color);\n",
              "      border-left-color: var(--fill-color);\n",
              "    }\n",
              "    20% {\n",
              "      border-color: transparent;\n",
              "      border-left-color: var(--fill-color);\n",
              "      border-top-color: var(--fill-color);\n",
              "    }\n",
              "    30% {\n",
              "      border-color: transparent;\n",
              "      border-left-color: var(--fill-color);\n",
              "      border-top-color: var(--fill-color);\n",
              "      border-right-color: var(--fill-color);\n",
              "    }\n",
              "    40% {\n",
              "      border-color: transparent;\n",
              "      border-right-color: var(--fill-color);\n",
              "      border-top-color: var(--fill-color);\n",
              "    }\n",
              "    60% {\n",
              "      border-color: transparent;\n",
              "      border-right-color: var(--fill-color);\n",
              "    }\n",
              "    80% {\n",
              "      border-color: transparent;\n",
              "      border-right-color: var(--fill-color);\n",
              "      border-bottom-color: var(--fill-color);\n",
              "    }\n",
              "    90% {\n",
              "      border-color: transparent;\n",
              "      border-bottom-color: var(--fill-color);\n",
              "    }\n",
              "  }\n",
              "</style>\n",
              "\n",
              "  <script>\n",
              "    async function quickchart(key) {\n",
              "      const quickchartButtonEl =\n",
              "        document.querySelector('#' + key + ' button');\n",
              "      quickchartButtonEl.disabled = true;  // To prevent multiple clicks.\n",
              "      quickchartButtonEl.classList.add('colab-df-spinner');\n",
              "      try {\n",
              "        const charts = await google.colab.kernel.invokeFunction(\n",
              "            'suggestCharts', [key], {});\n",
              "      } catch (error) {\n",
              "        console.error('Error during call to suggestCharts:', error);\n",
              "      }\n",
              "      quickchartButtonEl.classList.remove('colab-df-spinner');\n",
              "      quickchartButtonEl.classList.add('colab-df-quickchart-complete');\n",
              "    }\n",
              "    (() => {\n",
              "      let quickchartButtonEl =\n",
              "        document.querySelector('#df-51ce2875-8115-465b-ba7e-efa341c5af0c button');\n",
              "      quickchartButtonEl.style.display =\n",
              "        google.colab.kernel.accessAllowed ? 'block' : 'none';\n",
              "    })();\n",
              "  </script>\n",
              "</div>\n",
              "    </div>\n",
              "  </div>\n"
            ]
          },
          "metadata": {},
          "execution_count": 4
        }
      ]
    },
    {
      "cell_type": "code",
      "source": [
        "data.shape"
      ],
      "metadata": {
        "colab": {
          "base_uri": "https://localhost:8080/"
        },
        "id": "fDo0IqdDft_V",
        "outputId": "feeae2d6-9134-48d1-cfd5-66e9b4331280"
      },
      "execution_count": null,
      "outputs": [
        {
          "output_type": "execute_result",
          "data": {
            "text/plain": [
              "(9990, 60)"
            ]
          },
          "metadata": {},
          "execution_count": 5
        }
      ]
    },
    {
      "cell_type": "code",
      "source": [
        "data.dtypes"
      ],
      "metadata": {
        "colab": {
          "base_uri": "https://localhost:8080/"
        },
        "id": "FmVDvZrTfylF",
        "outputId": "226db979-802f-4f47-8bc3-d6d8e4a991b0"
      },
      "execution_count": null,
      "outputs": [
        {
          "output_type": "execute_result",
          "data": {
            "text/plain": [
              "filename                    object\n",
              "length                       int64\n",
              "chroma_stft_mean           float64\n",
              "chroma_stft_var            float64\n",
              "rms_mean                   float64\n",
              "rms_var                    float64\n",
              "spectral_centroid_mean     float64\n",
              "spectral_centroid_var      float64\n",
              "spectral_bandwidth_mean    float64\n",
              "spectral_bandwidth_var     float64\n",
              "rolloff_mean               float64\n",
              "rolloff_var                float64\n",
              "zero_crossing_rate_mean    float64\n",
              "zero_crossing_rate_var     float64\n",
              "harmony_mean               float64\n",
              "harmony_var                float64\n",
              "perceptr_mean              float64\n",
              "perceptr_var               float64\n",
              "tempo                      float64\n",
              "mfcc1_mean                 float64\n",
              "mfcc1_var                  float64\n",
              "mfcc2_mean                 float64\n",
              "mfcc2_var                  float64\n",
              "mfcc3_mean                 float64\n",
              "mfcc3_var                  float64\n",
              "mfcc4_mean                 float64\n",
              "mfcc4_var                  float64\n",
              "mfcc5_mean                 float64\n",
              "mfcc5_var                  float64\n",
              "mfcc6_mean                 float64\n",
              "mfcc6_var                  float64\n",
              "mfcc7_mean                 float64\n",
              "mfcc7_var                  float64\n",
              "mfcc8_mean                 float64\n",
              "mfcc8_var                  float64\n",
              "mfcc9_mean                 float64\n",
              "mfcc9_var                  float64\n",
              "mfcc10_mean                float64\n",
              "mfcc10_var                 float64\n",
              "mfcc11_mean                float64\n",
              "mfcc11_var                 float64\n",
              "mfcc12_mean                float64\n",
              "mfcc12_var                 float64\n",
              "mfcc13_mean                float64\n",
              "mfcc13_var                 float64\n",
              "mfcc14_mean                float64\n",
              "mfcc14_var                 float64\n",
              "mfcc15_mean                float64\n",
              "mfcc15_var                 float64\n",
              "mfcc16_mean                float64\n",
              "mfcc16_var                 float64\n",
              "mfcc17_mean                float64\n",
              "mfcc17_var                 float64\n",
              "mfcc18_mean                float64\n",
              "mfcc18_var                 float64\n",
              "mfcc19_mean                float64\n",
              "mfcc19_var                 float64\n",
              "mfcc20_mean                float64\n",
              "mfcc20_var                 float64\n",
              "label                       object\n",
              "dtype: object"
            ]
          },
          "metadata": {},
          "execution_count": 6
        }
      ]
    },
    {
      "cell_type": "code",
      "source": [
        "print(\"Columns containing missing values\",list(data.columns[data.isnull().any()]))"
      ],
      "metadata": {
        "colab": {
          "base_uri": "https://localhost:8080/"
        },
        "id": "kgl0Pl88f2NO",
        "outputId": "50b30d63-3910-4cb3-c23a-0a6c03c4c007"
      },
      "execution_count": null,
      "outputs": [
        {
          "output_type": "stream",
          "name": "stdout",
          "text": [
            "Columns containing missing values []\n"
          ]
        }
      ]
    },
    {
      "cell_type": "code",
      "source": [
        "from sklearn.preprocessing import LabelEncoder\n",
        "class_encod=data.iloc[:,-1]\n",
        "converter=LabelEncoder()\n",
        "y=converter.fit_transform(class_encod)\n",
        "y"
      ],
      "metadata": {
        "colab": {
          "base_uri": "https://localhost:8080/"
        },
        "id": "0omK4MpEf_LR",
        "outputId": "944f7a8e-644d-4150-b0a4-e06231521a01"
      },
      "execution_count": null,
      "outputs": [
        {
          "output_type": "execute_result",
          "data": {
            "text/plain": [
              "array([0, 0, 0, ..., 9, 9, 9])"
            ]
          },
          "metadata": {},
          "execution_count": 8
        }
      ]
    },
    {
      "cell_type": "code",
      "source": [
        "print(data.iloc[:,:-1])"
      ],
      "metadata": {
        "colab": {
          "base_uri": "https://localhost:8080/"
        },
        "id": "rz3AW6P9gC8M",
        "outputId": "de5f55be-a50d-4792-bf13-62eaf07f489e"
      },
      "execution_count": null,
      "outputs": [
        {
          "output_type": "stream",
          "name": "stdout",
          "text": [
            "               filename  length  chroma_stft_mean  chroma_stft_var  rms_mean  \\\n",
            "0     blues.00000.0.wav   66149          0.335406         0.091048  0.130405   \n",
            "1     blues.00000.1.wav   66149          0.343065         0.086147  0.112699   \n",
            "2     blues.00000.2.wav   66149          0.346815         0.092243  0.132003   \n",
            "3     blues.00000.3.wav   66149          0.363639         0.086856  0.132565   \n",
            "4     blues.00000.4.wav   66149          0.335579         0.088129  0.143289   \n",
            "...                 ...     ...               ...              ...       ...   \n",
            "9985   rock.00099.5.wav   66149          0.349126         0.080515  0.050019   \n",
            "9986   rock.00099.6.wav   66149          0.372564         0.082626  0.057897   \n",
            "9987   rock.00099.7.wav   66149          0.347481         0.089019  0.052403   \n",
            "9988   rock.00099.8.wav   66149          0.387527         0.084815  0.066430   \n",
            "9989   rock.00099.9.wav   66149          0.369293         0.086759  0.050524   \n",
            "\n",
            "       rms_var  spectral_centroid_mean  spectral_centroid_var  \\\n",
            "0     0.003521             1773.065032           167541.63090   \n",
            "1     0.001450             1816.693777            90525.69087   \n",
            "2     0.004620             1788.539719           111407.43760   \n",
            "3     0.002448             1655.289045           111952.28450   \n",
            "4     0.001701             1630.656199            79667.26765   \n",
            "...        ...                     ...                    ...   \n",
            "9985  0.000097             1499.083005           164266.88640   \n",
            "9986  0.000088             1847.965128           281054.93600   \n",
            "9987  0.000701             1346.157659           662956.24630   \n",
            "9988  0.000320             2084.515327           203891.03920   \n",
            "9989  0.000067             1634.330126           411429.16980   \n",
            "\n",
            "      spectral_bandwidth_mean  spectral_bandwidth_var  ...  mfcc16_mean  \\\n",
            "0                 1972.744388            117335.77160  ...    -2.853603   \n",
            "1                 2010.051501             65671.87567  ...     4.074709   \n",
            "2                 2084.565132             75124.92172  ...     4.806280   \n",
            "3                 1960.039988             82913.63927  ...    -1.359111   \n",
            "4                 1948.503884             60204.02027  ...     2.092937   \n",
            "...                       ...                     ...  ...          ...   \n",
            "9985              1718.707215             85931.57452  ...     5.773784   \n",
            "9986              1906.468492             99727.03705  ...     2.074155   \n",
            "9987              1561.859087            138762.84190  ...    -1.005473   \n",
            "9988              2018.366254             22860.99256  ...     4.123402   \n",
            "9989              1867.422378            119722.21150  ...     1.342274   \n",
            "\n",
            "      mfcc16_var  mfcc17_mean  mfcc17_var  mfcc18_mean  mfcc18_var  \\\n",
            "0      39.687145    -3.241280   36.488243     0.722209   38.099152   \n",
            "1      64.748276    -6.055294   40.677654     0.159015   51.264091   \n",
            "2      67.336563    -1.768610   28.348579     2.378768   45.717648   \n",
            "3      47.739452    -3.841155   28.337118     1.218588   34.770935   \n",
            "4      30.336359     0.664582   45.880913     1.689446   51.363583   \n",
            "...          ...          ...         ...          ...         ...   \n",
            "9985   42.485981    -9.094270   38.326839    -4.246976   31.049839   \n",
            "9986   32.415203   -12.375726   66.418587    -3.081278   54.414265   \n",
            "9987   78.228149    -2.524483   21.778994     4.809936   25.980829   \n",
            "9988   28.323744    -5.363541   17.209942     6.462601   21.442928   \n",
            "9989   38.801735   -11.598399   58.983097    -0.178517   55.761299   \n",
            "\n",
            "      mfcc19_mean  mfcc19_var  mfcc20_mean  mfcc20_var  \n",
            "0       -5.050335   33.618073    -0.243027   43.771767  \n",
            "1       -2.837699   97.030830     5.784063   59.943081  \n",
            "2       -1.938424   53.050835     2.517375   33.105122  \n",
            "3       -3.580352   50.836224     3.630866   32.023678  \n",
            "4       -3.392489   26.738789     0.536961   29.146694  \n",
            "...           ...         ...          ...         ...  \n",
            "9985    -5.625813   48.804092     1.818823   38.966969  \n",
            "9986   -11.960546   63.452255     0.428857   18.697033  \n",
            "9987     1.775686   48.582378    -0.299545   41.586990  \n",
            "9988     2.354765   24.843613     0.675824   12.787750  \n",
            "9989    -6.903252   39.485901    -3.412534   31.727489  \n",
            "\n",
            "[9990 rows x 59 columns]\n"
          ]
        }
      ]
    },
    {
      "cell_type": "code",
      "source": [
        "data=data.drop(labels=\"filename\",axis=1)"
      ],
      "metadata": {
        "id": "nVTnazVQgKqr"
      },
      "execution_count": null,
      "outputs": []
    },
    {
      "cell_type": "code",
      "source": [
        "import numpy as np\n",
        "from sklearn.preprocessing import StandardScaler\n",
        "fit=StandardScaler()\n",
        "X=fit.fit_transform(np.array(data.iloc[:,:-1],dtype=float))"
      ],
      "metadata": {
        "id": "JCQ-fOQOgQS0"
      },
      "execution_count": null,
      "outputs": []
    },
    {
      "cell_type": "code",
      "source": [
        "X_train,X_test,y_train,y_test=train_test_split(X,y,test_size=0.3)"
      ],
      "metadata": {
        "id": "2qrVaotwgTc4"
      },
      "execution_count": null,
      "outputs": []
    },
    {
      "cell_type": "code",
      "source": [
        "len(y_test)"
      ],
      "metadata": {
        "colab": {
          "base_uri": "https://localhost:8080/"
        },
        "id": "wU6uBwuignMF",
        "outputId": "64a59656-55aa-4ff5-b03d-df13257d053b"
      },
      "execution_count": null,
      "outputs": [
        {
          "output_type": "execute_result",
          "data": {
            "text/plain": [
              "2997"
            ]
          },
          "metadata": {},
          "execution_count": 13
        }
      ]
    },
    {
      "cell_type": "code",
      "source": [
        "len(y_train)"
      ],
      "metadata": {
        "colab": {
          "base_uri": "https://localhost:8080/"
        },
        "id": "pDrkpgS0gp3e",
        "outputId": "14367d18-f2c2-4cda-f6db-2e63365bf42e"
      },
      "execution_count": null,
      "outputs": [
        {
          "output_type": "execute_result",
          "data": {
            "text/plain": [
              "6993"
            ]
          },
          "metadata": {},
          "execution_count": 14
        }
      ]
    },
    {
      "cell_type": "code",
      "source": [
        "from sklearn.neighbors import KNeighborsClassifier\n",
        "from sklearn.metrics import classification_report, confusion_matrix\n",
        "import matplotlib.pyplot as plt\n",
        "import seaborn as sns"
      ],
      "metadata": {
        "id": "IsRqX288gtPh"
      },
      "execution_count": null,
      "outputs": []
    },
    {
      "cell_type": "code",
      "source": [
        "clf1=KNeighborsClassifier(n_neighbors=3)\n",
        "clf1.fit(X_train,y_train)\n",
        "y_pred=clf1.predict(X_test)"
      ],
      "metadata": {
        "id": "CoaGVE_Xg0KI"
      },
      "execution_count": null,
      "outputs": []
    },
    {
      "cell_type": "code",
      "source": [
        "print(\"Training set score: {:.3f}\".format(clf1.score(X_train, y_train)))\n",
        "print(\"Test set score: {:.3f}\".format(clf1.score(X_test, y_test)))\n",
        "cf_matrix = confusion_matrix(y_test, y_pred)\n",
        "sns.set(rc = {'figure.figsize':(8,3)})\n",
        "sns.heatmap(cf_matrix, annot=True)\n",
        "print(classification_report(y_test,y_pred))"
      ],
      "metadata": {
        "colab": {
          "base_uri": "https://localhost:8080/",
          "height": 626
        },
        "id": "W6nddYF4g3xy",
        "outputId": "1e9dab08-2783-445a-de7c-faaa3dea508e"
      },
      "execution_count": null,
      "outputs": [
        {
          "output_type": "stream",
          "name": "stdout",
          "text": [
            "Training set score: 0.950\n",
            "Test set score: 0.890\n",
            "              precision    recall  f1-score   support\n",
            "\n",
            "           0       0.86      0.91      0.89       314\n",
            "           1       0.90      0.94      0.92       282\n",
            "           2       0.80      0.84      0.82       291\n",
            "           3       0.85      0.91      0.88       316\n",
            "           4       0.93      0.90      0.92       301\n",
            "           5       0.87      0.86      0.86       290\n",
            "           6       0.96      0.96      0.96       297\n",
            "           7       0.97      0.85      0.90       293\n",
            "           8       0.88      0.93      0.90       301\n",
            "           9       0.90      0.79      0.84       312\n",
            "\n",
            "    accuracy                           0.89      2997\n",
            "   macro avg       0.89      0.89      0.89      2997\n",
            "weighted avg       0.89      0.89      0.89      2997\n",
            "\n"
          ]
        },
        {
          "output_type": "display_data",
          "data": {
            "text/plain": [
              "<Figure size 800x300 with 2 Axes>"
            ],
            "image/png": "[encoded data removed]"
          },
          "metadata": {}
        }
      ]
    },
    {
      "cell_type": "code",
      "source": [],
      "metadata": {
        "id": "f4MwB5M2g-cN"
      },
      "execution_count": null,
      "outputs": []
    }
  ]
}