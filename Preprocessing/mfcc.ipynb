{
  "nbformat": 4,
  "nbformat_minor": 0,
  "metadata": {
    "colab": {
      "provenance": []
    },
    "kernelspec": {
      "name": "python3",
      "display_name": "Python 3"
    },
    "language_info": {
      "name": "python"
    }
  },
  "cells": [
    {
      "cell_type": "code",
      "execution_count": null,
      "metadata": {
        "colab": {
          "base_uri": "https://localhost:8080/"
        },
        "id": "t3jWY12x0jeX",
        "outputId": "ff64b518-00da-4efe-9971-0f1d6215dd29"
      },
      "outputs": [
        {
          "output_type": "stream",
          "name": "stdout",
          "text": [
            "Drive already mounted at /content/drive; to attempt to forcibly remount, call drive.mount(\"/content/drive\", force_remount=True).\n"
          ]
        }
      ],
      "source": [
        "from google.colab import drive\n",
        "\n",
        "# Mount Google Drive\n",
        "drive.mount('/content/drive')\n"
      ]
    },
    {
      "cell_type": "code",
      "source": [
        "import librosa\n",
        "import numpy as np"
      ],
      "metadata": {
        "id": "RI40o4NK0k6O"
      },
      "execution_count": null,
      "outputs": []
    },
    {
      "cell_type": "code",
      "source": [
        "audio_path = \"/content/drive/MyDrive/gtzan/genres/blues/blues.00000.wav\""
      ],
      "metadata": {
        "id": "g1M5rnWj09yy"
      },
      "execution_count": null,
      "outputs": []
    },
    {
      "cell_type": "code",
      "source": [
        "audio, sr = librosa.load(audio_path, sr=22050)\n"
      ],
      "metadata": {
        "id": "Ctu21Win1HWI"
      },
      "execution_count": null,
      "outputs": []
    },
    {
      "cell_type": "code",
      "source": [
        "mfcc = librosa.feature.mfcc(y=audio, sr=sr, n_mfcc=20)"
      ],
      "metadata": {
        "id": "rw0w9Mdo1Pht"
      },
      "execution_count": null,
      "outputs": []
    },
    {
      "cell_type": "code",
      "source": [
        "mfcc_mean = np.mean(mfcc, axis=1)\n",
        "mfcc_variance = np.var(mfcc, axis=1)\n"
      ],
      "metadata": {
        "id": "WzBu1nm634ah"
      },
      "execution_count": null,
      "outputs": []
    },
    {
      "cell_type": "code",
      "source": [
        "print(\"MFCC Mean:\")\n",
        "print(mfcc_mean)\n",
        "print(\"\\nMFCC Variance:\")\n",
        "print(mfcc_variance)"
      ],
      "metadata": {
        "colab": {
          "base_uri": "https://localhost:8080/"
        },
        "id": "gD74sxMa4Psk",
        "outputId": "06268d4d-c060-46f8-f944-1ec80fac6584"
      },
      "execution_count": null,
      "outputs": [
        {
          "output_type": "stream",
          "name": "stdout",
          "text": [
            "MFCC Mean:\n",
            "[-113.59882     121.57067     -19.162262     42.36394      -6.362266\n",
            "   18.621933    -13.699734     15.339802    -12.274304     10.970945\n",
            "   -8.326061      8.802088     -3.6699414     5.7446756    -5.162783\n",
            "    0.7517064    -1.687854     -0.40872997   -2.3026767     1.2224671 ]\n",
            "\n",
            "MFCC Variance:\n",
            "[2569.3694    295.8471    235.58444   151.03873   167.99287    89.17242\n",
            "   67.60309    69.001495   82.21985    63.346542   61.76499    51.280754\n",
            "   41.215897   40.517525   49.784233   52.42454    36.535866   41.60317\n",
            "   55.053654   46.941353]\n"
          ]
        }
      ]
    }
  ]
}