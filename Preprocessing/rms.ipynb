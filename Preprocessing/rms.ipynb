{
  "nbformat": 4,
  "nbformat_minor": 0,
  "metadata": {
    "colab": {
      "provenance": []
    },
    "kernelspec": {
      "name": "python3",
      "display_name": "Python 3"
    },
    "language_info": {
      "name": "python"
    }
  },
  "cells": [
    {
      "cell_type": "code",
      "execution_count": null,
      "metadata": {
        "id": "bIp7yPyA4KgO",
        "colab": {
          "base_uri": "https://localhost:8080/"
        },
        "outputId": "425ef6a6-bb7e-44d8-bf4d-cebcb9d2227b"
      },
      "outputs": [
        {
          "output_type": "stream",
          "name": "stdout",
          "text": [
            "Mounted at /content/drive\n"
          ]
        }
      ],
      "source": [
        "from google.colab import drive\n",
        "\n",
        "# Mount Google Drive\n",
        "drive.mount('/content/drive')"
      ]
    },
    {
      "cell_type": "code",
      "source": [
        "import soundfile as sf\n",
        "import numpy as np"
      ],
      "metadata": {
        "id": "rCnEQ_9pkIWG"
      },
      "execution_count": null,
      "outputs": []
    },
    {
      "cell_type": "code",
      "source": [
        "def extract_audio_features(audio_path):\n",
        "\n",
        "    audio, sr = sf.read(audio_path)\n",
        "\n",
        "\n",
        "    rms = np.sqrt(np.mean(audio**2, axis=0))\n",
        "\n",
        "\n",
        "    mean = np.mean(rms)\n",
        "    variance = np.var(rms)\n",
        "\n",
        "    return mean, variance"
      ],
      "metadata": {
        "id": "dhcexTlirC26"
      },
      "execution_count": null,
      "outputs": []
    },
    {
      "cell_type": "code",
      "source": [
        "audio_path = \"/content/drive/MyDrive/gtzan/genres/blues/blues.00000.wav\""
      ],
      "metadata": {
        "id": "yw_GqZcvrGyb"
      },
      "execution_count": null,
      "outputs": []
    },
    {
      "cell_type": "code",
      "source": [
        "mean, variance = extract_audio_features(audio_path)"
      ],
      "metadata": {
        "id": "Lqg70LQkrakt"
      },
      "execution_count": null,
      "outputs": []
    },
    {
      "cell_type": "code",
      "source": [
        "print(\"Mean of RMS Energy:\", mean)\n",
        "print(\"Variance of RMS Energy:\", variance)"
      ],
      "metadata": {
        "colab": {
          "base_uri": "https://localhost:8080/"
        },
        "id": "eqAbly23r4Kl",
        "outputId": "d121581c-f06b-43bb-ea86-b86c4fb467eb"
      },
      "execution_count": null,
      "outputs": [
        {
          "output_type": "stream",
          "name": "stdout",
          "text": [
            "Mean of RMS Energy: 0.14068844715340037\n",
            "Variance of RMS Energy: 0.0\n"
          ]
        }
      ]
    },
    {
      "cell_type": "code",
      "source": [],
      "metadata": {
        "id": "SEc5WRKKttiB"
      },
      "execution_count": null,
      "outputs": []
    }
  ]
}