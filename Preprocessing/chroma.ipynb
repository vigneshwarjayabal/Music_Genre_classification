{
  "nbformat": 4,
  "nbformat_minor": 0,
  "metadata": {
    "colab": {
      "provenance": []
    },
    "kernelspec": {
      "name": "python3",
      "display_name": "Python 3"
    },
    "language_info": {
      "name": "python"
    }
  },
  "cells": [
    {
      "cell_type": "code",
      "execution_count": null,
      "metadata": {
        "colab": {
          "base_uri": "https://localhost:8080/"
        },
        "id": "k6tR7LDv6a5-",
        "outputId": "4fca5264-df93-43c0-ed36-c9c6bbfc98ce"
      },
      "outputs": [
        {
          "output_type": "stream",
          "name": "stdout",
          "text": [
            "Mounted at /content/drive\n"
          ]
        }
      ],
      "source": [
        "from google.colab import drive\n",
        "\n",
        "# Mount Google Drive\n",
        "drive.mount('/content/drive')\n"
      ]
    },
    {
      "cell_type": "code",
      "source": [
        "import librosa\n",
        "import numpy as np"
      ],
      "metadata": {
        "id": "TPcLmfSk6cuj"
      },
      "execution_count": null,
      "outputs": []
    },
    {
      "cell_type": "code",
      "source": [
        "audio_path = \"/content/drive/MyDrive/gtzan/genres/blues/blues.00000.wav\"\n"
      ],
      "metadata": {
        "id": "aCGmKjmA63p_"
      },
      "execution_count": null,
      "outputs": []
    },
    {
      "cell_type": "code",
      "source": [
        "audio, sr = librosa.load(audio_path)\n"
      ],
      "metadata": {
        "id": "itytqVbF69GT"
      },
      "execution_count": null,
      "outputs": []
    },
    {
      "cell_type": "code",
      "source": [
        "chroma_features = librosa.feature.chroma_stft(y=audio, sr=sr)\n"
      ],
      "metadata": {
        "id": "DgFrhBLj6-Ih"
      },
      "execution_count": null,
      "outputs": []
    },
    {
      "cell_type": "code",
      "source": [
        "chroma_mean = np.mean(chroma_features, axis=1)\n",
        "chroma_variance = np.var(chroma_features, axis=1)"
      ],
      "metadata": {
        "id": "YsWdkk0V7EnI"
      },
      "execution_count": null,
      "outputs": []
    },
    {
      "cell_type": "code",
      "source": [
        "print(\"Chroma Mean:\", chroma_mean)\n",
        "print(\"Chroma Variance:\", chroma_variance)"
      ],
      "metadata": {
        "colab": {
          "base_uri": "https://localhost:8080/"
        },
        "id": "g62NCdkJ7rK6",
        "outputId": "551053db-7fe4-4d85-a037-c29b03c4400f"
      },
      "execution_count": null,
      "outputs": [
        {
          "output_type": "stream",
          "name": "stdout",
          "text": [
            "Chroma Mean: [0.36224282 0.367817   0.43983436 0.24469176 0.247862   0.3356164\n",
            " 0.36461875 0.43568376 0.29598564 0.3150803  0.4070083  0.38510066]\n",
            "Chroma Variance: [0.10695025 0.08176982 0.09995376 0.0446469  0.06566809 0.08352277\n",
            " 0.07684794 0.11980225 0.06438382 0.0787414  0.11086456 0.08566732]\n"
          ]
        }
      ]
    },
    {
      "cell_type": "code",
      "source": [],
      "metadata": {
        "id": "GRuZ6cMV9CWd"
      },
      "execution_count": null,
      "outputs": []
    }
  ]
}