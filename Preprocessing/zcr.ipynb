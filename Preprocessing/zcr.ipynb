{
  "nbformat": 4,
  "nbformat_minor": 0,
  "metadata": {
    "colab": {
      "provenance": []
    },
    "kernelspec": {
      "name": "python3",
      "display_name": "Python 3"
    },
    "language_info": {
      "name": "python"
    }
  },
  "cells": [
    {
      "cell_type": "code",
      "source": [
        "from google.colab import drive\n",
        "\n",
        "# Mount Google Drive\n",
        "drive.mount('/content/drive')\n"
      ],
      "metadata": {
        "id": "AtJNVaClu2ql",
        "colab": {
          "base_uri": "https://localhost:8080/"
        },
        "outputId": "a3d57be8-aafa-47e1-8505-32dfd375d9e0"
      },
      "execution_count": null,
      "outputs": [
        {
          "output_type": "stream",
          "name": "stdout",
          "text": [
            "Mounted at /content/drive\n"
          ]
        }
      ]
    },
    {
      "cell_type": "code",
      "source": [
        "import librosa\n",
        "import numpy as np\n"
      ],
      "metadata": {
        "id": "zlmX-f2nvQnt"
      },
      "execution_count": null,
      "outputs": []
    },
    {
      "cell_type": "code",
      "source": [
        "audio_path = \"/content/drive/MyDrive/gtzan/genres/blues/blues.00000.wav\"\n"
      ],
      "metadata": {
        "id": "fAzpD0myv80p"
      },
      "execution_count": null,
      "outputs": []
    },
    {
      "cell_type": "code",
      "source": [
        "audio, sr = librosa.load(audio_path, sr=22050)"
      ],
      "metadata": {
        "id": "4-LmwwqIwF4V"
      },
      "execution_count": null,
      "outputs": []
    },
    {
      "cell_type": "code",
      "source": [
        "zero_crossings = librosa.zero_crossings(audio, pad=False)"
      ],
      "metadata": {
        "id": "capYOJLwwIkx"
      },
      "execution_count": null,
      "outputs": []
    },
    {
      "cell_type": "code",
      "source": [
        "mean_zcr = np.mean(zero_crossings)\n",
        "var_zcr = np.var(zero_crossings)"
      ],
      "metadata": {
        "id": "XYPDdBAAwMcL"
      },
      "execution_count": null,
      "outputs": []
    },
    {
      "cell_type": "code",
      "source": [
        "print(\"Mean Zero Crossing Rate:\", mean_zcr)\n",
        "print(\"Variance of Zero Crossing Rate:\", var_zcr)"
      ],
      "metadata": {
        "colab": {
          "base_uri": "https://localhost:8080/"
        },
        "id": "ULWxmTj9wQY0",
        "outputId": "eb85b658-7923-4bb0-9a2b-58ac4e3a7ee4"
      },
      "execution_count": null,
      "outputs": [
        {
          "output_type": "stream",
          "name": "stdout",
          "text": [
            "Mean Zero Crossing Rate: 0.08315427459300023\n",
            "Variance of Zero Crossing Rate: 0.07623964120991217\n"
          ]
        }
      ]
    },
    {
      "cell_type": "code",
      "source": [],
      "metadata": {
        "id": "FDaffxZRzUhS"
      },
      "execution_count": null,
      "outputs": []
    }
  ]
}