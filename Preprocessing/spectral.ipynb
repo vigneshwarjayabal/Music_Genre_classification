{
  "nbformat": 4,
  "nbformat_minor": 0,
  "metadata": {
    "colab": {
      "provenance": []
    },
    "kernelspec": {
      "name": "python3",
      "display_name": "Python 3"
    },
    "language_info": {
      "name": "python"
    }
  },
  "cells": [
    {
      "cell_type": "code",
      "execution_count": null,
      "metadata": {
        "colab": {
          "base_uri": "https://localhost:8080/"
        },
        "id": "eag7gkR1_5o9",
        "outputId": "980cea1e-0b06-42f5-e7b8-34ebe1a1b3a4"
      },
      "outputs": [
        {
          "output_type": "stream",
          "name": "stdout",
          "text": [
            "Mounted at /content/drive\n"
          ]
        }
      ],
      "source": [
        "from google.colab import drive\n",
        "\n",
        "# Mount Google Drive\n",
        "drive.mount('/content/drive')\n",
        "\n"
      ]
    },
    {
      "cell_type": "code",
      "source": [
        "import librosa\n",
        "import numpy as np"
      ],
      "metadata": {
        "id": "jMwGsMc1_-ZF"
      },
      "execution_count": null,
      "outputs": []
    },
    {
      "cell_type": "code",
      "source": [
        "audio_path = \"/content/drive/MyDrive/gtzan/genres/blues/blues.00000.wav\"\n",
        "audio, sr = librosa.load(audio_path, sr=22050)\n"
      ],
      "metadata": {
        "id": "Mwh12eBOARB2"
      },
      "execution_count": null,
      "outputs": []
    },
    {
      "cell_type": "code",
      "source": [
        "spectral_centroids = librosa.feature.spectral_centroid(y=audio, sr=sr)[0]\n",
        "spectral_rolloff = librosa.feature.spectral_rolloff(y=audio, sr=sr)[0]\n",
        "\n",
        "centroid_mean = np.mean(spectral_centroids)\n",
        "centroid_variance = np.var(spectral_centroids)\n",
        "\n",
        "rolloff_mean = np.mean(spectral_rolloff)\n",
        "rolloff_variance = np.var(spectral_rolloff)"
      ],
      "metadata": {
        "id": "n1QQGU-JAZzD"
      },
      "execution_count": null,
      "outputs": []
    },
    {
      "cell_type": "code",
      "source": [
        "print(\"Mean of Spectral Centroid:\", centroid_mean)\n",
        "print(\"Variance of Spectral Centroid:\", centroid_variance)\n",
        "print(\"Mean of Spectral Roll-off:\", rolloff_mean)\n",
        "print(\"Variance of Spectral Roll-off:\", rolloff_variance)"
      ],
      "metadata": {
        "colab": {
          "base_uri": "https://localhost:8080/"
        },
        "id": "Dus4z6qUApJL",
        "outputId": "09a8748f-cb45-41f8-91e8-561da7f0a8e0"
      },
      "execution_count": null,
      "outputs": [
        {
          "output_type": "stream",
          "name": "stdout",
          "text": [
            "Mean of Spectral Centroid: 1784.1226409867395\n",
            "Variance of Spectral Centroid: 129745.48453872248\n",
            "Mean of Spectral Roll-off: 3805.7230301080335\n",
            "Variance of Spectral Roll-off: 901252.916706492\n"
          ]
        }
      ]
    },
    {
      "cell_type": "code",
      "source": [],
      "metadata": {
        "id": "CTrVlR0eAyN_"
      },
      "execution_count": null,
      "outputs": []
    }
  ]
}